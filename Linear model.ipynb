{
 "cells": [
  {
   "cell_type": "code",
   "execution_count": 1,
   "metadata": {
    "collapsed": false
   },
   "outputs": [],
   "source": [
    "import pandas as pd \n",
    "import numpy as np\n",
    "import matplotlib.pyplot as plt\n",
    "\n",
    "%matplotlib inline"
   ]
  },
  {
   "cell_type": "code",
   "execution_count": 2,
   "metadata": {
    "collapsed": true
   },
   "outputs": [],
   "source": [
    "data = pd.read_csv(\"A:\\Download\\manhattan.csv\")"
   ]
  },
  {
   "cell_type": "code",
   "execution_count": 3,
   "metadata": {
    "collapsed": false
   },
   "outputs": [
    {
     "data": {
      "text/html": [
       "<div>\n",
       "<table border=\"1\" class=\"dataframe\">\n",
       "  <thead>\n",
       "    <tr style=\"text-align: right;\">\n",
       "      <th></th>\n",
       "      <th>GRID_ID</th>\n",
       "      <th>idle_count</th>\n",
       "      <th>relief_stands</th>\n",
       "      <th>geometry</th>\n",
       "      <th>dropoff_co</th>\n",
       "      <th>parks</th>\n",
       "      <th>rest_cheap</th>\n",
       "      <th>violations</th>\n",
       "    </tr>\n",
       "  </thead>\n",
       "  <tbody>\n",
       "    <tr>\n",
       "      <th>0</th>\n",
       "      <td>AS-54</td>\n",
       "      <td>0.0</td>\n",
       "      <td>0</td>\n",
       "      <td>POLYGON ((-74.04589966952779 40.69033272469935...</td>\n",
       "      <td>0.0</td>\n",
       "      <td>0.0</td>\n",
       "      <td>0</td>\n",
       "      <td>0.0</td>\n",
       "    </tr>\n",
       "    <tr>\n",
       "      <th>1</th>\n",
       "      <td>AS-55</td>\n",
       "      <td>0.0</td>\n",
       "      <td>0</td>\n",
       "      <td>POLYGON ((-74.04589966952779 40.69033272469935...</td>\n",
       "      <td>0.0</td>\n",
       "      <td>0.0</td>\n",
       "      <td>0</td>\n",
       "      <td>0.0</td>\n",
       "    </tr>\n",
       "    <tr>\n",
       "      <th>2</th>\n",
       "      <td>AT-53</td>\n",
       "      <td>0.0</td>\n",
       "      <td>0</td>\n",
       "      <td>POLYGON ((-74.04109861205649 40.70049294329179...</td>\n",
       "      <td>0.5</td>\n",
       "      <td>0.0</td>\n",
       "      <td>0</td>\n",
       "      <td>0.0</td>\n",
       "    </tr>\n",
       "    <tr>\n",
       "      <th>3</th>\n",
       "      <td>AT-54</td>\n",
       "      <td>0.0</td>\n",
       "      <td>0</td>\n",
       "      <td>POLYGON ((-74.04146718007551 40.69659112724123...</td>\n",
       "      <td>0.0</td>\n",
       "      <td>0.0</td>\n",
       "      <td>0</td>\n",
       "      <td>0.0</td>\n",
       "    </tr>\n",
       "    <tr>\n",
       "      <th>4</th>\n",
       "      <td>AT-55</td>\n",
       "      <td>0.0</td>\n",
       "      <td>0</td>\n",
       "      <td>POLYGON ((-74.04388559622677 40.69018482394773...</td>\n",
       "      <td>0.0</td>\n",
       "      <td>0.0</td>\n",
       "      <td>0</td>\n",
       "      <td>0.0</td>\n",
       "    </tr>\n",
       "  </tbody>\n",
       "</table>\n",
       "</div>"
      ],
      "text/plain": [
       "  GRID_ID  idle_count  relief_stands  \\\n",
       "0   AS-54         0.0              0   \n",
       "1   AS-55         0.0              0   \n",
       "2   AT-53         0.0              0   \n",
       "3   AT-54         0.0              0   \n",
       "4   AT-55         0.0              0   \n",
       "\n",
       "                                            geometry  dropoff_co  parks  \\\n",
       "0  POLYGON ((-74.04589966952779 40.69033272469935...         0.0    0.0   \n",
       "1  POLYGON ((-74.04589966952779 40.69033272469935...         0.0    0.0   \n",
       "2  POLYGON ((-74.04109861205649 40.70049294329179...         0.5    0.0   \n",
       "3  POLYGON ((-74.04146718007551 40.69659112724123...         0.0    0.0   \n",
       "4  POLYGON ((-74.04388559622677 40.69018482394773...         0.0    0.0   \n",
       "\n",
       "   rest_cheap  violations  \n",
       "0           0         0.0  \n",
       "1           0         0.0  \n",
       "2           0         0.0  \n",
       "3           0         0.0  \n",
       "4           0         0.0  "
      ]
     },
     "execution_count": 3,
     "metadata": {},
     "output_type": "execute_result"
    }
   ],
   "source": [
    "data.head()"
   ]
  },
  {
   "cell_type": "code",
   "execution_count": 4,
   "metadata": {
    "collapsed": true
   },
   "outputs": [],
   "source": [
    "subdat = data[[\"GRID_ID\", \"idle_count\", \"dropoff_co\", \"parks\", \"rest_cheap\", \"violations\"]]"
   ]
  },
  {
   "cell_type": "code",
   "execution_count": 36,
   "metadata": {
    "collapsed": true
   },
   "outputs": [],
   "source": [
    "dat = subdat[[\"idle_count\", \"dropoff_co\", \"parks\", \"rest_cheap\", \"violations\"]]"
   ]
  },
  {
   "cell_type": "code",
   "execution_count": 37,
   "metadata": {
    "collapsed": true
   },
   "outputs": [],
   "source": [
    "dat = (dat - dat.min()) / (dat.max() - dat.min())"
   ]
  },
  {
   "cell_type": "code",
   "execution_count": 42,
   "metadata": {
    "collapsed": true
   },
   "outputs": [],
   "source": [
    "dat[\"GRID_ID\"] = subdat[\"GRID_ID\"]"
   ]
  },
  {
   "cell_type": "code",
   "execution_count": 93,
   "metadata": {
    "collapsed": false
   },
   "outputs": [
    {
     "name": "stdout",
     "output_type": "stream",
     "text": [
      "score 0 is:\n",
      "violations is: 0.527675618273\n",
      "idle_count is: 0.222061638472\n",
      "dropoff_co is: 0.156512657033\n",
      "rest_cheap is: 0.0924102738331\n",
      "parks is: 0.00133981238829\n",
      "end \n",
      "\n",
      "score 1 is:\n",
      "violations is: 0.437916683527\n",
      "idle_count is: 0.278339616274\n",
      "dropoff_co is: 0.214438173667\n",
      "rest_cheap is: 0.0368303281448\n",
      "parks is: 0.0324751983858\n",
      "end \n",
      "\n",
      "score 2 is:\n",
      "violations is: 0.734443291996\n",
      "idle_count is: 0.0820937320416\n",
      "dropoff_co is: 0.0776723327425\n",
      "rest_cheap is: 0.0678296663018\n",
      "parks is: 0.0379609769185\n",
      "end \n",
      "\n",
      "score 3 is:\n",
      "violations is: 0.498239701288\n",
      "idle_count is: 0.219488758936\n",
      "dropoff_co is: 0.216325766619\n",
      "rest_cheap is: 0.0415006027559\n",
      "parks is: 0.0244451704018\n",
      "end \n",
      "\n",
      "score 4 is:\n",
      "violations is: 0.495113750549\n",
      "idle_count is: 0.299439957107\n",
      "dropoff_co is: 0.0994330051621\n",
      "rest_cheap is: 0.0720774353215\n",
      "parks is: 0.0339358518606\n",
      "end \n",
      "\n",
      "score 5 is:\n",
      "violations is: 0.671019186478\n",
      "idle_count is: 0.197141934401\n",
      "dropoff_co is: 0.122932447763\n",
      "rest_cheap is: 0.00649582781212\n",
      "parks is: 0.00241060354552\n",
      "end \n",
      "\n",
      "score 6 is:\n",
      "violations is: 0.375037390778\n",
      "idle_count is: 0.369996538764\n",
      "dropoff_co is: 0.194911920205\n",
      "rest_cheap is: 0.0450024104035\n",
      "parks is: 0.0150517398503\n",
      "end \n",
      "\n",
      "score 7 is:\n",
      "violations is: 0.425514882891\n",
      "idle_count is: 0.237763965916\n",
      "dropoff_co is: 0.237632094028\n",
      "rest_cheap is: 0.0924455648937\n",
      "parks is: 0.00664349227089\n",
      "end \n",
      "\n",
      "score 8 is:\n",
      "violations is: 0.389876423638\n",
      "idle_count is: 0.28587142985\n",
      "dropoff_co is: 0.250565857374\n",
      "rest_cheap is: 0.0677516265448\n",
      "parks is: 0.00593466259348\n",
      "end \n",
      "\n",
      "score 9 is:\n",
      "violations is: 0.399322637238\n",
      "idle_count is: 0.305946415895\n",
      "dropoff_co is: 0.16421212751\n",
      "rest_cheap is: 0.0702808267544\n",
      "parks is: 0.0602379926026\n",
      "end \n",
      "\n"
     ]
    }
   ],
   "source": [
    "scores_m = np.zeros([dat.shape[0],50])\n",
    "sort_list = [\"violations\", \"idle_count\", \"dropoff_co\", \"rest_cheap\", \"parks\"]\n",
    "np.random.seed(100)\n",
    "for _ in range(50):\n",
    "    weights = np.array(sorted(np.random.dirichlet(np.ones(5)))[::-1])\n",
    "    vals = dat[sort_list].values\n",
    "    scores = vals.dot(weights)\n",
    "    scores_m[:,_] = vals.dot(weights).reshape(vals.shape[0])\n",
    "    print \"score \" + str(_) + \" is:\"\n",
    "    for i,v in enumerate(sort_list):\n",
    "        print v + \" is: \" + str(weights[i])\n",
    "    print \"end \\n\""
   ]
  },
  {
   "cell_type": "code",
   "execution_count": 96,
   "metadata": {
    "collapsed": true
   },
   "outputs": [],
   "source": [
    "for _ in range(10):\n",
    "    data[\"score_\"+ str(_)] = scores_m[:,_]"
   ]
  },
  {
   "cell_type": "code",
   "execution_count": 99,
   "metadata": {
    "collapsed": true
   },
   "outputs": [],
   "source": [
    "data.to_csv(\"withscores.csv\")"
   ]
  },
  {
   "cell_type": "code",
   "execution_count": 14,
   "metadata": {
    "collapsed": false
   },
   "outputs": [],
   "source": [
    "import geopandas as gpd\n",
    "from fiona.crs import from_epsg"
   ]
  },
  {
   "cell_type": "code",
   "execution_count": 130,
   "metadata": {
    "collapsed": true
   },
   "outputs": [],
   "source": [
    "dat = gpd.GeoDataFrame.from_csv(\"withscores.csv\")"
   ]
  },
  {
   "cell_type": "code",
   "execution_count": 57,
   "metadata": {
    "collapsed": false
   },
   "outputs": [
    {
     "data": {
      "text/html": [
       "<div>\n",
       "<table border=\"1\" class=\"dataframe\">\n",
       "  <thead>\n",
       "    <tr style=\"text-align: right;\">\n",
       "      <th></th>\n",
       "      <th>GRID_ID</th>\n",
       "      <th>idle_count</th>\n",
       "      <th>relief_stands</th>\n",
       "      <th>geometry</th>\n",
       "      <th>dropoff_co</th>\n",
       "      <th>parks</th>\n",
       "      <th>rest_cheap</th>\n",
       "      <th>violations</th>\n",
       "      <th>score_0</th>\n",
       "      <th>score_1</th>\n",
       "      <th>score_2</th>\n",
       "      <th>score_3</th>\n",
       "      <th>score_4</th>\n",
       "      <th>score_5</th>\n",
       "      <th>score_6</th>\n",
       "      <th>score_7</th>\n",
       "      <th>score_8</th>\n",
       "      <th>score_9</th>\n",
       "      <th>ave_score</th>\n",
       "    </tr>\n",
       "  </thead>\n",
       "  <tbody>\n",
       "    <tr>\n",
       "      <th>158</th>\n",
       "      <td>BG-42</td>\n",
       "      <td>308.202740</td>\n",
       "      <td>2</td>\n",
       "      <td>POLYGON ((-73.97944485982342 40.74039365532082...</td>\n",
       "      <td>2768.104110</td>\n",
       "      <td>0.0</td>\n",
       "      <td>50</td>\n",
       "      <td>2011.0</td>\n",
       "      <td>0.904409</td>\n",
       "      <td>0.838391</td>\n",
       "      <td>0.915265</td>\n",
       "      <td>0.845284</td>\n",
       "      <td>0.906186</td>\n",
       "      <td>0.923560</td>\n",
       "      <td>0.867573</td>\n",
       "      <td>0.850255</td>\n",
       "      <td>0.843175</td>\n",
       "      <td>0.840874</td>\n",
       "      <td>0.873497</td>\n",
       "    </tr>\n",
       "    <tr>\n",
       "      <th>93</th>\n",
       "      <td>BD-38</td>\n",
       "      <td>264.106849</td>\n",
       "      <td>2</td>\n",
       "      <td>POLYGON ((-73.99369078885718 40.75916533252825...</td>\n",
       "      <td>1898.265753</td>\n",
       "      <td>0.0</td>\n",
       "      <td>50</td>\n",
       "      <td>1190.0</td>\n",
       "      <td>0.637647</td>\n",
       "      <td>0.592980</td>\n",
       "      <td>0.593970</td>\n",
       "      <td>0.583431</td>\n",
       "      <td>0.648782</td>\n",
       "      <td>0.606040</td>\n",
       "      <td>0.637160</td>\n",
       "      <td>0.612814</td>\n",
       "      <td>0.611784</td>\n",
       "      <td>0.613548</td>\n",
       "      <td>0.613816</td>\n",
       "    </tr>\n",
       "    <tr>\n",
       "      <th>137</th>\n",
       "      <td>BF-42</td>\n",
       "      <td>127.704110</td>\n",
       "      <td>4</td>\n",
       "      <td>POLYGON ((-73.98419360103942 40.74247996463384...</td>\n",
       "      <td>4357.375342</td>\n",
       "      <td>0.0</td>\n",
       "      <td>50</td>\n",
       "      <td>1065.0</td>\n",
       "      <td>0.561880</td>\n",
       "      <td>0.518356</td>\n",
       "      <td>0.539435</td>\n",
       "      <td>0.531770</td>\n",
       "      <td>0.520621</td>\n",
       "      <td>0.520525</td>\n",
       "      <td>0.518979</td>\n",
       "      <td>0.565115</td>\n",
       "      <td>0.549580</td>\n",
       "      <td>0.511355</td>\n",
       "      <td>0.533762</td>\n",
       "    </tr>\n",
       "    <tr>\n",
       "      <th>115</th>\n",
       "      <td>BE-39</td>\n",
       "      <td>38.482192</td>\n",
       "      <td>1</td>\n",
       "      <td>POLYGON ((-73.98894125338362 40.75290830780834...</td>\n",
       "      <td>5089.923288</td>\n",
       "      <td>0.0</td>\n",
       "      <td>50</td>\n",
       "      <td>862.0</td>\n",
       "      <td>0.460805</td>\n",
       "      <td>0.416149</td>\n",
       "      <td>0.449708</td>\n",
       "      <td>0.440708</td>\n",
       "      <td>0.394425</td>\n",
       "      <td>0.408660</td>\n",
       "      <td>0.394529</td>\n",
       "      <td>0.478347</td>\n",
       "      <td>0.453845</td>\n",
       "      <td>0.399764</td>\n",
       "      <td>0.429694</td>\n",
       "    </tr>\n",
       "    <tr>\n",
       "      <th>97</th>\n",
       "      <td>BD-42</td>\n",
       "      <td>135.002740</td>\n",
       "      <td>1</td>\n",
       "      <td>POLYGON ((-73.99369236883631 40.74248087656221...</td>\n",
       "      <td>2531.545205</td>\n",
       "      <td>0.0</td>\n",
       "      <td>50</td>\n",
       "      <td>738.0</td>\n",
       "      <td>0.440268</td>\n",
       "      <td>0.397474</td>\n",
       "      <td>0.401574</td>\n",
       "      <td>0.399189</td>\n",
       "      <td>0.421114</td>\n",
       "      <td>0.383826</td>\n",
       "      <td>0.415615</td>\n",
       "      <td>0.439202</td>\n",
       "      <td>0.427208</td>\n",
       "      <td>0.410581</td>\n",
       "      <td>0.413605</td>\n",
       "    </tr>\n",
       "  </tbody>\n",
       "</table>\n",
       "</div>"
      ],
      "text/plain": [
       "    GRID_ID  idle_count  relief_stands  \\\n",
       "158   BG-42  308.202740              2   \n",
       "93    BD-38  264.106849              2   \n",
       "137   BF-42  127.704110              4   \n",
       "115   BE-39   38.482192              1   \n",
       "97    BD-42  135.002740              1   \n",
       "\n",
       "                                              geometry   dropoff_co  parks  \\\n",
       "158  POLYGON ((-73.97944485982342 40.74039365532082...  2768.104110    0.0   \n",
       "93   POLYGON ((-73.99369078885718 40.75916533252825...  1898.265753    0.0   \n",
       "137  POLYGON ((-73.98419360103942 40.74247996463384...  4357.375342    0.0   \n",
       "115  POLYGON ((-73.98894125338362 40.75290830780834...  5089.923288    0.0   \n",
       "97   POLYGON ((-73.99369236883631 40.74248087656221...  2531.545205    0.0   \n",
       "\n",
       "     rest_cheap  violations   score_0   score_1   score_2   score_3   score_4  \\\n",
       "158          50      2011.0  0.904409  0.838391  0.915265  0.845284  0.906186   \n",
       "93           50      1190.0  0.637647  0.592980  0.593970  0.583431  0.648782   \n",
       "137          50      1065.0  0.561880  0.518356  0.539435  0.531770  0.520621   \n",
       "115          50       862.0  0.460805  0.416149  0.449708  0.440708  0.394425   \n",
       "97           50       738.0  0.440268  0.397474  0.401574  0.399189  0.421114   \n",
       "\n",
       "      score_5   score_6   score_7   score_8   score_9  ave_score  \n",
       "158  0.923560  0.867573  0.850255  0.843175  0.840874   0.873497  \n",
       "93   0.606040  0.637160  0.612814  0.611784  0.613548   0.613816  \n",
       "137  0.520525  0.518979  0.565115  0.549580  0.511355   0.533762  \n",
       "115  0.408660  0.394529  0.478347  0.453845  0.399764   0.429694  \n",
       "97   0.383826  0.415615  0.439202  0.427208  0.410581   0.413605  "
      ]
     },
     "execution_count": 57,
     "metadata": {},
     "output_type": "execute_result"
    }
   ],
   "source": [
    "dat.head()"
   ]
  },
  {
   "cell_type": "code",
   "execution_count": 131,
   "metadata": {
    "collapsed": false
   },
   "outputs": [],
   "source": [
    "dat[\"ave_score\"] = dat[[\"score_\" + str(i) for i in range(10)]].mean(axis=1)"
   ]
  },
  {
   "cell_type": "code",
   "execution_count": 132,
   "metadata": {
    "collapsed": false
   },
   "outputs": [],
   "source": [
    "dat[[\"parks\", \"dropoff_co\",\"GRID_ID\"]][dat[\"parks\"] != 0].sort_values([\"dropoff_co\"], ascending=False).head(20).to_csv(\"parks.csv\")"
   ]
  },
  {
   "cell_type": "code",
   "execution_count": 133,
   "metadata": {
    "collapsed": false
   },
   "outputs": [],
   "source": [
    "dat.sort_values(\"ave_score\", ascending=False).to_csv(\"withscores.csv\")"
   ]
  },
  {
   "cell_type": "code",
   "execution_count": 65,
   "metadata": {
    "collapsed": true
   },
   "outputs": [],
   "source": [
    "request_dat = gpd.GeoDataFrame.from_file(\"stand_requests\\stand_requests.shp\")"
   ]
  },
  {
   "cell_type": "code",
   "execution_count": 71,
   "metadata": {
    "collapsed": false
   },
   "outputs": [],
   "source": [
    "request_dat = request_dat.set_geometry(\"geometry\")\n",
    "request_dat.crs = from_epsg(4326)"
   ]
  },
  {
   "cell_type": "code",
   "execution_count": 72,
   "metadata": {
    "collapsed": true
   },
   "outputs": [],
   "source": [
    "haxgon =  gpd.GeoDataFrame.from_file(\"Hexagon_2km2/Hexagon_clipped/hexagons_clipped.shp\")"
   ]
  },
  {
   "cell_type": "code",
   "execution_count": 108,
   "metadata": {
    "collapsed": false
   },
   "outputs": [],
   "source": [
    "haxgon = haxgon.set_geometry(\"geometry\")\n",
    "haxgon.crs = from_epsg(2263)\n",
    "haxgon = haxgon.to_crs(epsg=4326)"
   ]
  },
  {
   "cell_type": "code",
   "execution_count": 117,
   "metadata": {
    "collapsed": false,
    "scrolled": true
   },
   "outputs": [],
   "source": [
    "request_dat[\"GRID_ID\"] = request_dat.apply(lambda x: haxgon[haxgon.geometry.contains(x.geometry)][\"GRID_ID\"].values[0], axis=1)"
   ]
  },
  {
   "cell_type": "code",
   "execution_count": 120,
   "metadata": {
    "collapsed": false
   },
   "outputs": [],
   "source": [
    "manhattan = request_dat[request_dat[\"borough\"] == \"Manhattan\"]"
   ]
  },
  {
   "cell_type": "code",
   "execution_count": 134,
   "metadata": {
    "collapsed": false
   },
   "outputs": [],
   "source": [
    "dat_sort = dat.sort_values(\"idle_count\", ascending=False)"
   ]
  },
  {
   "cell_type": "code",
   "execution_count": 259,
   "metadata": {
    "collapsed": false
   },
   "outputs": [],
   "source": [
    "features = [\"parks\", \"rest_cheap\"]"
   ]
  },
  {
   "cell_type": "code",
   "execution_count": 198,
   "metadata": {
    "collapsed": false
   },
   "outputs": [],
   "source": [
    "request_ = dat_sort.merge(request_dat, on=\"GRID_ID\")[features + [\"GRID_ID\"]]"
   ]
  },
  {
   "cell_type": "code",
   "execution_count": 195,
   "metadata": {
    "collapsed": false
   },
   "outputs": [],
   "source": [
    "dat_ = dat_sort[features + [\"GRID_ID\", \"relief_stands\"]]"
   ]
  },
  {
   "cell_type": "code",
   "execution_count": 199,
   "metadata": {
    "collapsed": false
   },
   "outputs": [],
   "source": [
    "request_[\"flag\"] = 1"
   ]
  },
  {
   "cell_type": "code",
   "execution_count": 210,
   "metadata": {
    "collapsed": false
   },
   "outputs": [
    {
     "name": "stderr",
     "output_type": "stream",
     "text": [
      "B:\\Anaconda3\\lib\\site-packages\\ipykernel\\__main__.py:1: UserWarning: Boolean Series key will be reindexed to match DataFrame index.\n",
      "  if __name__ == '__main__':\n"
     ]
    }
   ],
   "source": [
    "flags1 = dat_[dat[\"relief_stands\"] != 0][features + [\"GRID_ID\"]]"
   ]
  },
  {
   "cell_type": "code",
   "execution_count": 214,
   "metadata": {
    "collapsed": false
   },
   "outputs": [],
   "source": [
    "flags1[\"flag\"] = np.append(np.ones(10), np.zeros(flags1.shape[0]-10))"
   ]
  },
  {
   "cell_type": "code",
   "execution_count": 233,
   "metadata": {
    "collapsed": false
   },
   "outputs": [],
   "source": [
    "final = flags1.append(request_).drop_duplicates()"
   ]
  },
  {
   "cell_type": "code",
   "execution_count": 237,
   "metadata": {
    "collapsed": false
   },
   "outputs": [],
   "source": [
    "from sklearn import linear_model "
   ]
  },
  {
   "cell_type": "code",
   "execution_count": 260,
   "metadata": {
    "collapsed": true
   },
   "outputs": [],
   "source": [
    "y_train = final[\"flag\"]\n",
    "x_train = final[features]"
   ]
  },
  {
   "cell_type": "code",
   "execution_count": 263,
   "metadata": {
    "collapsed": false
   },
   "outputs": [
    {
     "name": "stdout",
     "output_type": "stream",
     "text": [
      "c is: 1e-05 score is: 0.536585365854\n",
      "c is: 0.0001 score is: 0.536585365854\n",
      "c is: 0.001 score is: 0.536585365854\n",
      "c is: 0.01 score is: 0.536585365854\n",
      "c is: 0.1 score is: 0.536585365854\n",
      "c is: 1 score is: 0.609756097561\n",
      "c is: 10.0 score is: 0.634146341463\n",
      "c is: 100.0 score is: 0.634146341463\n",
      "c is: 1000.0 score is: 0.634146341463\n",
      "c is: 10000.0 score is: 0.634146341463\n",
      "c is: 100000.0 score is: 0.634146341463\n",
      "c is: 1000000.0 score is: 0.634146341463\n"
     ]
    }
   ],
   "source": [
    "for c in [1e-5, 1e-4, 1e-3, 1e-2, 1e-1, 1, 1e1, 1e2, 1e3, 1e4, 1e5, 1e6]:\n",
    "    lgc = linear_model.LogisticRegression(C=c)\n",
    "    lgc.fit(x_train, y_train)\n",
    "    print (\"c is: \" + str(c) + \" score is: \" + str(lgc.score(x_train, y_train)))"
   ]
  },
  {
   "cell_type": "code",
   "execution_count": 264,
   "metadata": {
    "collapsed": false
   },
   "outputs": [
    {
     "data": {
      "text/plain": [
       "LogisticRegression(C=10, class_weight=None, dual=False, fit_intercept=True,\n",
       "          intercept_scaling=1, max_iter=100, multi_class='ovr', n_jobs=1,\n",
       "          penalty='l2', random_state=None, solver='liblinear', tol=0.0001,\n",
       "          verbose=0, warm_start=False)"
      ]
     },
     "execution_count": 264,
     "metadata": {},
     "output_type": "execute_result"
    }
   ],
   "source": [
    "lgc = linear_model.LogisticRegression(C=10)\n",
    "lgc.fit(x_train, y_train)"
   ]
  },
  {
   "cell_type": "code",
   "execution_count": 265,
   "metadata": {
    "collapsed": false
   },
   "outputs": [
    {
     "name": "stderr",
     "output_type": "stream",
     "text": [
      "B:\\Anaconda3\\lib\\site-packages\\ipykernel\\__main__.py:1: UserWarning: Boolean Series key will be reindexed to match DataFrame index.\n",
      "  if __name__ == '__main__':\n"
     ]
    }
   ],
   "source": [
    "prob = lgc.predict_proba(dat_[dat[\"relief_stands\"] == 0][features])[:,1]"
   ]
  },
  {
   "cell_type": "code",
   "execution_count": 268,
   "metadata": {
    "collapsed": false
   },
   "outputs": [
    {
     "name": "stderr",
     "output_type": "stream",
     "text": [
      "B:\\Anaconda3\\lib\\site-packages\\ipykernel\\__main__.py:1: UserWarning: Boolean Series key will be reindexed to match DataFrame index.\n",
      "  if __name__ == '__main__':\n",
      "B:\\Anaconda3\\lib\\site-packages\\ipykernel\\__main__.py:2: SettingWithCopyWarning: \n",
      "A value is trying to be set on a copy of a slice from a DataFrame.\n",
      "Try using .loc[row_indexer,col_indexer] = value instead\n",
      "\n",
      "See the caveats in the documentation: http://pandas.pydata.org/pandas-docs/stable/indexing.html#indexing-view-versus-copy\n",
      "  from ipykernel import kernelapp as app\n"
     ]
    }
   ],
   "source": [
    "f_dat = dat_[dat[\"relief_stands\"] == 0]\n",
    "f_dat[\"prob\"] = prob"
   ]
  },
  {
   "cell_type": "code",
   "execution_count": 1,
   "metadata": {
    "collapsed": true
   },
   "outputs": [],
   "source": [
    "import pandas as pd\n",
    "import numpy as np"
   ]
  },
  {
   "cell_type": "code",
   "execution_count": 3,
   "metadata": {
    "collapsed": false
   },
   "outputs": [],
   "source": [
    "f_dat = pd.read_csv(\"logsc.csv\")"
   ]
  },
  {
   "cell_type": "code",
   "execution_count": 4,
   "metadata": {
    "collapsed": false
   },
   "outputs": [],
   "source": [
    "f_dat.reset_index(drop=True, inplace=True)"
   ]
  },
  {
   "cell_type": "code",
   "execution_count": 5,
   "metadata": {
    "collapsed": true
   },
   "outputs": [],
   "source": [
    "import pulp"
   ]
  },
  {
   "cell_type": "code",
   "execution_count": 6,
   "metadata": {
    "collapsed": true
   },
   "outputs": [],
   "source": [
    "trs_model = pulp.LpProblem(\"trs Problem\", pulp.LpMaximize)"
   ]
  },
  {
   "cell_type": "code",
   "execution_count": 7,
   "metadata": {
    "collapsed": true
   },
   "outputs": [],
   "source": [
    "x = pulp.LpVariable.dict('x_%s', range(f_dat.shape[0]))\n",
    "y = pulp.LpVariable.dict('y_%s', range(f_dat.shape[0]), lowBound=0, upBound=1, cat=\"Binary\")"
   ]
  },
  {
   "cell_type": "code",
   "execution_count": 8,
   "metadata": {
    "collapsed": true
   },
   "outputs": [],
   "source": [
    "trs_model += sum([f_dat.loc[i, \"violations\"] * x[i] for i in range(f_dat.shape[0])])"
   ]
  },
  {
   "cell_type": "code",
   "execution_count": 9,
   "metadata": {
    "collapsed": false
   },
   "outputs": [],
   "source": [
    "trs_model += sum([y[i] for i in range(f_dat.shape[0])]) <= 20\n",
    "for i in range(f_dat.shape[0]):\n",
    "    zero = np.zeros(f_dat.shape[0])\n",
    "    zero[i] = 1\n",
    "    trs_model += sum(x[i]*zero[i] for i in range(f_dat.shape[0])) <= f_dat.loc[i, \"idle_count\"]\n",
    "    trs_model += sum(x[i]*zero[i] for i in range(f_dat.shape[0])) <= f_dat.loc[i, \"prob\"] * y[i]"
   ]
  },
  {
   "cell_type": "code",
   "execution_count": 10,
   "metadata": {
    "collapsed": false
   },
   "outputs": [
    {
     "data": {
      "text/plain": [
       "1"
      ]
     },
     "execution_count": 10,
     "metadata": {},
     "output_type": "execute_result"
    }
   ],
   "source": [
    "trs_model.solve()"
   ]
  },
  {
   "cell_type": "code",
   "execution_count": 11,
   "metadata": {
    "collapsed": false
   },
   "outputs": [],
   "source": [
    "ids = []\n",
    "for v in trs_model.variables():\n",
    "    if v.name.startswith(\"y\") & (v.varValue == 1):\n",
    "        ids.append(f_dat.loc[int(v.name[2:]), \"GRID_ID\"])"
   ]
  },
  {
   "cell_type": "code",
   "execution_count": 12,
   "metadata": {
    "collapsed": false
   },
   "outputs": [
    {
     "data": {
      "text/plain": [
       "['BE-41',\n",
       " 'BB-40',\n",
       " 'BM-26',\n",
       " 'BC-37',\n",
       " 'BP-27',\n",
       " 'BG-45',\n",
       " 'BE-40',\n",
       " 'BI-39',\n",
       " 'BH-40',\n",
       " 'BI-38',\n",
       " 'BH-39',\n",
       " 'BM-27',\n",
       " 'BF-33',\n",
       " 'BH-41',\n",
       " 'BD-37',\n",
       " 'BG-33',\n",
       " 'BK-28',\n",
       " 'BF-37',\n",
       " 'BG-41',\n",
       " 'BN-34']"
      ]
     },
     "execution_count": 12,
     "metadata": {},
     "output_type": "execute_result"
    }
   ],
   "source": [
    "ids"
   ]
  }
 ],
 "metadata": {
  "anaconda-cloud": {},
  "kernelspec": {
   "display_name": "Python [conda root]",
   "language": "python",
   "name": "conda-root-py"
  },
  "language_info": {
   "codemirror_mode": {
    "name": "ipython",
    "version": 3
   },
   "file_extension": ".py",
   "mimetype": "text/x-python",
   "name": "python",
   "nbconvert_exporter": "python",
   "pygments_lexer": "ipython3",
   "version": "3.5.2"
  }
 },
 "nbformat": 4,
 "nbformat_minor": 1
}
