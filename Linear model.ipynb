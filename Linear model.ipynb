{
 "cells": [
  {
   "cell_type": "code",
   "execution_count": 1,
   "metadata": {
    "collapsed": false
   },
   "outputs": [],
   "source": [
    "import pandas as pd \n",
    "import numpy as np\n",
    "import matplotlib.pyplot as plt\n",
    "\n",
    "%matplotlib inline"
   ]
  },
  {
   "cell_type": "code",
   "execution_count": 2,
   "metadata": {
    "collapsed": true
   },
   "outputs": [],
   "source": [
    "data = pd.read_csv(\"A:\\Download\\manhattan.csv\")"
   ]
  },
  {
   "cell_type": "code",
   "execution_count": 3,
   "metadata": {
    "collapsed": false
   },
   "outputs": [
    {
     "data": {
      "text/html": [
       "<div>\n",
       "<table border=\"1\" class=\"dataframe\">\n",
       "  <thead>\n",
       "    <tr style=\"text-align: right;\">\n",
       "      <th></th>\n",
       "      <th>GRID_ID</th>\n",
       "      <th>idle_count</th>\n",
       "      <th>relief_stands</th>\n",
       "      <th>geometry</th>\n",
       "      <th>dropoff_co</th>\n",
       "      <th>parks</th>\n",
       "      <th>rest_cheap</th>\n",
       "      <th>violations</th>\n",
       "    </tr>\n",
       "  </thead>\n",
       "  <tbody>\n",
       "    <tr>\n",
       "      <th>0</th>\n",
       "      <td>AS-54</td>\n",
       "      <td>0.0</td>\n",
       "      <td>0</td>\n",
       "      <td>POLYGON ((-74.04589966952779 40.69033272469935...</td>\n",
       "      <td>0.0</td>\n",
       "      <td>0.0</td>\n",
       "      <td>0</td>\n",
       "      <td>0.0</td>\n",
       "    </tr>\n",
       "    <tr>\n",
       "      <th>1</th>\n",
       "      <td>AS-55</td>\n",
       "      <td>0.0</td>\n",
       "      <td>0</td>\n",
       "      <td>POLYGON ((-74.04589966952779 40.69033272469935...</td>\n",
       "      <td>0.0</td>\n",
       "      <td>0.0</td>\n",
       "      <td>0</td>\n",
       "      <td>0.0</td>\n",
       "    </tr>\n",
       "    <tr>\n",
       "      <th>2</th>\n",
       "      <td>AT-53</td>\n",
       "      <td>0.0</td>\n",
       "      <td>0</td>\n",
       "      <td>POLYGON ((-74.04109861205649 40.70049294329179...</td>\n",
       "      <td>0.5</td>\n",
       "      <td>0.0</td>\n",
       "      <td>0</td>\n",
       "      <td>0.0</td>\n",
       "    </tr>\n",
       "    <tr>\n",
       "      <th>3</th>\n",
       "      <td>AT-54</td>\n",
       "      <td>0.0</td>\n",
       "      <td>0</td>\n",
       "      <td>POLYGON ((-74.04146718007551 40.69659112724123...</td>\n",
       "      <td>0.0</td>\n",
       "      <td>0.0</td>\n",
       "      <td>0</td>\n",
       "      <td>0.0</td>\n",
       "    </tr>\n",
       "    <tr>\n",
       "      <th>4</th>\n",
       "      <td>AT-55</td>\n",
       "      <td>0.0</td>\n",
       "      <td>0</td>\n",
       "      <td>POLYGON ((-74.04388559622677 40.69018482394773...</td>\n",
       "      <td>0.0</td>\n",
       "      <td>0.0</td>\n",
       "      <td>0</td>\n",
       "      <td>0.0</td>\n",
       "    </tr>\n",
       "  </tbody>\n",
       "</table>\n",
       "</div>"
      ],
      "text/plain": [
       "  GRID_ID  idle_count  relief_stands  \\\n",
       "0   AS-54         0.0              0   \n",
       "1   AS-55         0.0              0   \n",
       "2   AT-53         0.0              0   \n",
       "3   AT-54         0.0              0   \n",
       "4   AT-55         0.0              0   \n",
       "\n",
       "                                            geometry  dropoff_co  parks  \\\n",
       "0  POLYGON ((-74.04589966952779 40.69033272469935...         0.0    0.0   \n",
       "1  POLYGON ((-74.04589966952779 40.69033272469935...         0.0    0.0   \n",
       "2  POLYGON ((-74.04109861205649 40.70049294329179...         0.5    0.0   \n",
       "3  POLYGON ((-74.04146718007551 40.69659112724123...         0.0    0.0   \n",
       "4  POLYGON ((-74.04388559622677 40.69018482394773...         0.0    0.0   \n",
       "\n",
       "   rest_cheap  violations  \n",
       "0           0         0.0  \n",
       "1           0         0.0  \n",
       "2           0         0.0  \n",
       "3           0         0.0  \n",
       "4           0         0.0  "
      ]
     },
     "execution_count": 3,
     "metadata": {},
     "output_type": "execute_result"
    }
   ],
   "source": [
    "data.head()"
   ]
  },
  {
   "cell_type": "code",
   "execution_count": 4,
   "metadata": {
    "collapsed": true
   },
   "outputs": [],
   "source": [
    "subdat = data[[\"GRID_ID\", \"idle_count\", \"dropoff_co\", \"parks\", \"rest_cheap\", \"violations\"]]"
   ]
  },
  {
   "cell_type": "code",
   "execution_count": 36,
   "metadata": {
    "collapsed": true
   },
   "outputs": [],
   "source": [
    "dat = subdat[[\"idle_count\", \"dropoff_co\", \"parks\", \"rest_cheap\", \"violations\"]]"
   ]
  },
  {
   "cell_type": "code",
   "execution_count": 37,
   "metadata": {
    "collapsed": true
   },
   "outputs": [],
   "source": [
    "dat = (dat - dat.min()) / (dat.max() - dat.min())"
   ]
  },
  {
   "cell_type": "code",
   "execution_count": 42,
   "metadata": {
    "collapsed": true
   },
   "outputs": [],
   "source": [
    "dat[\"GRID_ID\"] = subdat[\"GRID_ID\"]"
   ]
  },
  {
   "cell_type": "code",
   "execution_count": 93,
   "metadata": {
    "collapsed": false
   },
   "outputs": [
    {
     "name": "stdout",
     "output_type": "stream",
     "text": [
      "score 0 is:\n",
      "violations is: 0.527675618273\n",
      "idle_count is: 0.222061638472\n",
      "dropoff_co is: 0.156512657033\n",
      "rest_cheap is: 0.0924102738331\n",
      "parks is: 0.00133981238829\n",
      "end \n",
      "\n",
      "score 1 is:\n",
      "violations is: 0.437916683527\n",
      "idle_count is: 0.278339616274\n",
      "dropoff_co is: 0.214438173667\n",
      "rest_cheap is: 0.0368303281448\n",
      "parks is: 0.0324751983858\n",
      "end \n",
      "\n",
      "score 2 is:\n",
      "violations is: 0.734443291996\n",
      "idle_count is: 0.0820937320416\n",
      "dropoff_co is: 0.0776723327425\n",
      "rest_cheap is: 0.0678296663018\n",
      "parks is: 0.0379609769185\n",
      "end \n",
      "\n",
      "score 3 is:\n",
      "violations is: 0.498239701288\n",
      "idle_count is: 0.219488758936\n",
      "dropoff_co is: 0.216325766619\n",
      "rest_cheap is: 0.0415006027559\n",
      "parks is: 0.0244451704018\n",
      "end \n",
      "\n",
      "score 4 is:\n",
      "violations is: 0.495113750549\n",
      "idle_count is: 0.299439957107\n",
      "dropoff_co is: 0.0994330051621\n",
      "rest_cheap is: 0.0720774353215\n",
      "parks is: 0.0339358518606\n",
      "end \n",
      "\n",
      "score 5 is:\n",
      "violations is: 0.671019186478\n",
      "idle_count is: 0.197141934401\n",
      "dropoff_co is: 0.122932447763\n",
      "rest_cheap is: 0.00649582781212\n",
      "parks is: 0.00241060354552\n",
      "end \n",
      "\n",
      "score 6 is:\n",
      "violations is: 0.375037390778\n",
      "idle_count is: 0.369996538764\n",
      "dropoff_co is: 0.194911920205\n",
      "rest_cheap is: 0.0450024104035\n",
      "parks is: 0.0150517398503\n",
      "end \n",
      "\n",
      "score 7 is:\n",
      "violations is: 0.425514882891\n",
      "idle_count is: 0.237763965916\n",
      "dropoff_co is: 0.237632094028\n",
      "rest_cheap is: 0.0924455648937\n",
      "parks is: 0.00664349227089\n",
      "end \n",
      "\n",
      "score 8 is:\n",
      "violations is: 0.389876423638\n",
      "idle_count is: 0.28587142985\n",
      "dropoff_co is: 0.250565857374\n",
      "rest_cheap is: 0.0677516265448\n",
      "parks is: 0.00593466259348\n",
      "end \n",
      "\n",
      "score 9 is:\n",
      "violations is: 0.399322637238\n",
      "idle_count is: 0.305946415895\n",
      "dropoff_co is: 0.16421212751\n",
      "rest_cheap is: 0.0702808267544\n",
      "parks is: 0.0602379926026\n",
      "end \n",
      "\n"
     ]
    }
   ],
   "source": [
    "scores_m = np.zeros([dat.shape[0],50])\n",
    "sort_list = [\"violations\", \"idle_count\", \"dropoff_co\", \"rest_cheap\", \"parks\"]\n",
    "np.random.seed(100)\n",
    "for _ in range(50):\n",
    "    weights = np.array(sorted(np.random.dirichlet(np.ones(5)))[::-1])\n",
    "    vals = dat[sort_list].values\n",
    "    scores = vals.dot(weights)\n",
    "    scores_m[:,_] = vals.dot(weights).reshape(vals.shape[0])\n",
    "    print \"score \" + str(_) + \" is:\"\n",
    "    for i,v in enumerate(sort_list):\n",
    "        print v + \" is: \" + str(weights[i])\n",
    "    print \"end \\n\""
   ]
  },
  {
   "cell_type": "code",
   "execution_count": 96,
   "metadata": {
    "collapsed": true
   },
   "outputs": [],
   "source": [
    "for _ in range(10):\n",
    "    data[\"score_\"+ str(_)] = scores_m[:,_]"
   ]
  },
  {
   "cell_type": "code",
   "execution_count": 99,
   "metadata": {
    "collapsed": true
   },
   "outputs": [],
   "source": [
    "data.to_csv(\"withscores.csv\")"
   ]
  },
  {
   "cell_type": "markdown",
   "metadata": {},
   "source": [
    "### Linear model with logistic regression"
   ]
  },
  {
   "cell_type": "code",
   "execution_count": 88,
   "metadata": {
    "collapsed": false
   },
   "outputs": [],
   "source": [
    "import geopandas as gpd\n",
    "from fiona.crs import from_epsg"
   ]
  },
  {
   "cell_type": "code",
   "execution_count": 89,
   "metadata": {
    "collapsed": false
   },
   "outputs": [],
   "source": [
    "dat = gpd.GeoDataFrame.from_csv(\"manhattan.csv\")"
   ]
  },
  {
   "cell_type": "code",
   "execution_count": 131,
   "metadata": {
    "collapsed": false
   },
   "outputs": [],
   "source": [
    "dat[\"ave_score\"] = dat[[\"score_\" + str(i) for i in range(10)]].mean(axis=1)"
   ]
  },
  {
   "cell_type": "code",
   "execution_count": 132,
   "metadata": {
    "collapsed": false
   },
   "outputs": [],
   "source": [
    "dat[[\"parks\", \"dropoff_co\",\"GRID_ID\"]][dat[\"parks\"] != 0].sort_values([\"dropoff_co\"], ascending=False).head(20).to_csv(\"parks.csv\")"
   ]
  },
  {
   "cell_type": "code",
   "execution_count": 133,
   "metadata": {
    "collapsed": false
   },
   "outputs": [],
   "source": [
    "dat.sort_values(\"ave_score\", ascending=False).to_csv(\"withscores.csv\")"
   ]
  },
  {
   "cell_type": "code",
   "execution_count": 90,
   "metadata": {
    "collapsed": true
   },
   "outputs": [],
   "source": [
    "request_dat = gpd.GeoDataFrame.from_file(\"stand_requests\\stand_requests.shp\")"
   ]
  },
  {
   "cell_type": "code",
   "execution_count": 91,
   "metadata": {
    "collapsed": false
   },
   "outputs": [],
   "source": [
    "request_dat = request_dat.set_geometry(\"geometry\")\n",
    "request_dat.crs = from_epsg(4326)"
   ]
  },
  {
   "cell_type": "code",
   "execution_count": 92,
   "metadata": {
    "collapsed": true
   },
   "outputs": [],
   "source": [
    "haxgon =  gpd.GeoDataFrame.from_file(\"Hexagon_2km2/Hexagon_clipped/hexagons_clipped.shp\")"
   ]
  },
  {
   "cell_type": "code",
   "execution_count": 93,
   "metadata": {
    "collapsed": false
   },
   "outputs": [],
   "source": [
    "haxgon = haxgon.set_geometry(\"geometry\")\n",
    "haxgon.crs = from_epsg(2263)\n",
    "haxgon = haxgon.to_crs(epsg=4326)"
   ]
  },
  {
   "cell_type": "code",
   "execution_count": 94,
   "metadata": {
    "collapsed": false,
    "scrolled": true
   },
   "outputs": [],
   "source": [
    "request_dat[\"GRID_ID\"] = request_dat.apply(lambda x: haxgon[haxgon.geometry.contains(x.geometry)][\"GRID_ID\"].values[0], axis=1)"
   ]
  },
  {
   "cell_type": "code",
   "execution_count": 95,
   "metadata": {
    "collapsed": false
   },
   "outputs": [],
   "source": [
    "manhattan = request_dat[request_dat[\"borough\"] == \"Manhattan\"]"
   ]
  },
  {
   "cell_type": "code",
   "execution_count": 96,
   "metadata": {
    "collapsed": false
   },
   "outputs": [],
   "source": [
    "dat_sort = dat.sort_values(\"idle_count\", ascending=False)"
   ]
  },
  {
   "cell_type": "code",
   "execution_count": 98,
   "metadata": {
    "collapsed": false
   },
   "outputs": [],
   "source": [
    "features = [\"parks\", \"rest_cheap\"]"
   ]
  },
  {
   "cell_type": "code",
   "execution_count": 99,
   "metadata": {
    "collapsed": false
   },
   "outputs": [],
   "source": [
    "request_ = dat_sort.merge(request_dat, on=\"GRID_ID\")[features + [\"GRID_ID\"]]"
   ]
  },
  {
   "cell_type": "code",
   "execution_count": 100,
   "metadata": {
    "collapsed": false
   },
   "outputs": [],
   "source": [
    "dat_ = dat_sort[features + [\"GRID_ID\", \"relief_stands\"]]"
   ]
  },
  {
   "cell_type": "code",
   "execution_count": 101,
   "metadata": {
    "collapsed": false
   },
   "outputs": [],
   "source": [
    "request_[\"flag\"] = 1"
   ]
  },
  {
   "cell_type": "code",
   "execution_count": 102,
   "metadata": {
    "collapsed": false
   },
   "outputs": [
    {
     "name": "stderr",
     "output_type": "stream",
     "text": [
      "B:\\Anaconda3\\lib\\site-packages\\ipykernel\\__main__.py:1: UserWarning: Boolean Series key will be reindexed to match DataFrame index.\n",
      "  if __name__ == '__main__':\n"
     ]
    }
   ],
   "source": [
    "flags1 = dat_[dat[\"relief_stands\"] != 0][features + [\"GRID_ID\"]]"
   ]
  },
  {
   "cell_type": "code",
   "execution_count": 103,
   "metadata": {
    "collapsed": false
   },
   "outputs": [],
   "source": [
    "flags1[\"flag\"] = np.append(np.ones(10), np.zeros(flags1.shape[0]-10))"
   ]
  },
  {
   "cell_type": "code",
   "execution_count": 104,
   "metadata": {
    "collapsed": false
   },
   "outputs": [],
   "source": [
    "final = flags1.append(request_).drop_duplicates()"
   ]
  },
  {
   "cell_type": "code",
   "execution_count": 119,
   "metadata": {
    "collapsed": false
   },
   "outputs": [],
   "source": [
    "y_train = final[\"flag\"].values\n",
    "x_train = final[[\"rest_cheap\", \"parks\"]].values"
   ]
  },
  {
   "cell_type": "code",
   "execution_count": 106,
   "metadata": {
    "collapsed": true
   },
   "outputs": [],
   "source": [
    "from sklearn import linear_model"
   ]
  },
  {
   "cell_type": "code",
   "execution_count": 120,
   "metadata": {
    "collapsed": false
   },
   "outputs": [
    {
     "name": "stdout",
     "output_type": "stream",
     "text": [
      "c is: 1e-05 score is: 0.536585365854\n",
      "c is: 0.0001 score is: 0.536585365854\n",
      "c is: 0.001 score is: 0.536585365854\n",
      "c is: 0.01 score is: 0.536585365854\n",
      "c is: 0.1 score is: 0.536585365854\n",
      "c is: 1 score is: 0.609756097561\n",
      "c is: 10.0 score is: 0.634146341463\n",
      "c is: 100.0 score is: 0.634146341463\n",
      "c is: 1000.0 score is: 0.634146341463\n",
      "c is: 10000.0 score is: 0.634146341463\n",
      "c is: 100000.0 score is: 0.634146341463\n",
      "c is: 1000000.0 score is: 0.634146341463\n"
     ]
    }
   ],
   "source": [
    "for c in [1e-5, 1e-4, 1e-3, 1e-2, 1e-1, 1, 1e1, 1e2, 1e3, 1e4, 1e5, 1e6]:\n",
    "    lgc = linear_model.LogisticRegression(C=c)\n",
    "    lgc.fit(x_train, y_train)\n",
    "    print (\"c is: \" + str(c) + \" score is: \" + str(lgc.score(x_train, y_train)))"
   ]
  },
  {
   "cell_type": "code",
   "execution_count": 130,
   "metadata": {
    "collapsed": false
   },
   "outputs": [
    {
     "data": {
      "text/plain": [
       "array([ 1.,  1.,  1.,  1.,  1.,  1.,  1.,  1.,  1.,  1.,  0.,  0.,  0.,\n",
       "        0.,  0.,  0.,  0.,  0.,  0.,  0.,  0.,  0.,  0.,  0.,  0.,  0.,\n",
       "        0.,  0.,  0.,  0.,  0.,  0.,  1.,  1.,  1.,  1.,  1.,  1.,  1.,\n",
       "        1.,  1.])"
      ]
     },
     "execution_count": 130,
     "metadata": {},
     "output_type": "execute_result"
    }
   ],
   "source": [
    "y_train"
   ]
  },
  {
   "cell_type": "code",
   "execution_count": 121,
   "metadata": {
    "collapsed": false
   },
   "outputs": [
    {
     "data": {
      "text/plain": [
       "LogisticRegression(C=10, class_weight=None, dual=False, fit_intercept=True,\n",
       "          intercept_scaling=1, max_iter=100, multi_class='ovr', n_jobs=1,\n",
       "          penalty='l2', random_state=None, solver='liblinear', tol=0.0001,\n",
       "          verbose=0, warm_start=False)"
      ]
     },
     "execution_count": 121,
     "metadata": {},
     "output_type": "execute_result"
    }
   ],
   "source": [
    "lgc = linear_model.LogisticRegression(C=10)\n",
    "lgc.fit(x_train, y_train)"
   ]
  },
  {
   "cell_type": "code",
   "execution_count": 124,
   "metadata": {
    "collapsed": false
   },
   "outputs": [],
   "source": [
    "prob = lgc.predict_proba(dat_[features])[:,1]"
   ]
  },
  {
   "cell_type": "code",
   "execution_count": 151,
   "metadata": {
    "collapsed": false
   },
   "outputs": [
    {
     "name": "stderr",
     "output_type": "stream",
     "text": [
      "B:\\Anaconda3\\lib\\site-packages\\ipykernel\\__main__.py:2: SettingWithCopyWarning: \n",
      "A value is trying to be set on a copy of a slice from a DataFrame.\n",
      "Try using .loc[row_indexer,col_indexer] = value instead\n",
      "\n",
      "See the caveats in the documentation: http://pandas.pydata.org/pandas-docs/stable/indexing.html#indexing-view-versus-copy\n",
      "  from ipykernel import kernelapp as app\n",
      "B:\\Anaconda3\\lib\\site-packages\\ipykernel\\__main__.py:3: SettingWithCopyWarning: \n",
      "A value is trying to be set on a copy of a slice from a DataFrame.\n",
      "Try using .loc[row_indexer,col_indexer] = value instead\n",
      "\n",
      "See the caveats in the documentation: http://pandas.pydata.org/pandas-docs/stable/indexing.html#indexing-view-versus-copy\n",
      "  app.launch_new_instance()\n",
      "B:\\Anaconda3\\lib\\site-packages\\ipykernel\\__main__.py:4: SettingWithCopyWarning: \n",
      "A value is trying to be set on a copy of a slice from a DataFrame.\n",
      "Try using .loc[row_indexer,col_indexer] = value instead\n",
      "\n",
      "See the caveats in the documentation: http://pandas.pydata.org/pandas-docs/stable/indexing.html#indexing-view-versus-copy\n"
     ]
    }
   ],
   "source": [
    "f_dat = dat_\n",
    "f_dat[\"prob\"] = prob\n",
    "f_dat[\"violations\"] = dat[\"violations\"]\n",
    "f_dat[\"idle_count\"] = dat[\"idle_count\"]"
   ]
  },
  {
   "cell_type": "code",
   "execution_count": 126,
   "metadata": {
    "collapsed": true
   },
   "outputs": [],
   "source": [
    "import pandas as pd\n",
    "import numpy as np"
   ]
  },
  {
   "cell_type": "code",
   "execution_count": 127,
   "metadata": {
    "collapsed": false
   },
   "outputs": [],
   "source": [
    "f_dat.reset_index(drop=True, inplace=True)"
   ]
  },
  {
   "cell_type": "code",
   "execution_count": 132,
   "metadata": {
    "collapsed": false
   },
   "outputs": [],
   "source": [
    "neighbour = np.load(\"neighbour.npy\")"
   ]
  },
  {
   "cell_type": "code",
   "execution_count": 133,
   "metadata": {
    "collapsed": true
   },
   "outputs": [],
   "source": [
    "name = pd.read_csv(\"manhattan_grids_final.csv\")"
   ]
  },
  {
   "cell_type": "code",
   "execution_count": 152,
   "metadata": {
    "collapsed": false
   },
   "outputs": [],
   "source": [
    "f_dat_final = f_dat.merge(name, on=\"GRID_ID\")"
   ]
  },
  {
   "cell_type": "code",
   "execution_count": 7,
   "metadata": {
    "collapsed": true
   },
   "outputs": [],
   "source": [
    "import pulp"
   ]
  },
  {
   "cell_type": "code",
   "execution_count": 153,
   "metadata": {
    "collapsed": true
   },
   "outputs": [],
   "source": [
    "trs_model = pulp.LpProblem(\"trs Problem\", pulp.LpMaximize)"
   ]
  },
  {
   "cell_type": "code",
   "execution_count": 154,
   "metadata": {
    "collapsed": true
   },
   "outputs": [],
   "source": [
    "x = pulp.LpVariable.dict('x_%s', range(f_dat_final.shape[0]))\n",
    "y = pulp.LpVariable.dict('y_%s', range(f_dat_final.shape[0]), lowBound=0, upBound=1, cat=\"Binary\")"
   ]
  },
  {
   "cell_type": "code",
   "execution_count": 155,
   "metadata": {
    "collapsed": false
   },
   "outputs": [],
   "source": [
    "trs_model += sum([f_dat_final.loc[i, \"violations\"] * x[i] * f_dat_final.loc[i, \"prob\"] for i in range(f_dat_final.shape[0])])"
   ]
  },
  {
   "cell_type": "code",
   "execution_count": 156,
   "metadata": {
    "collapsed": false
   },
   "outputs": [],
   "source": [
    "trs_model += sum([y[i] for i in range(f_dat_final.shape[0])]) <= 20\n",
    "for i in range(f_dat_final.shape[0]):\n",
    "    zero = np.zeros(f_dat_final.shape[0])\n",
    "    zero[i] = 1\n",
    "    trs_model += sum(x[i]*zero[i] for i in range(f_dat_final.shape[0])) <= f_dat_final.loc[i, \"idle_count\"]\n",
    "    trs_model += sum(x[i]*zero[i] for i in range(f_dat_final.shape[0])) <= 0.8*y[i] + 0.2*sum([y[f_dat_final[f_dat_final[\"num\"]==j].index.values[0]] for j in np.where(neighbour[f_dat_final.loc[i, \"num\"], :] == 1)[0]])"
   ]
  },
  {
   "cell_type": "code",
   "execution_count": 157,
   "metadata": {
    "collapsed": false
   },
   "outputs": [
    {
     "data": {
      "text/plain": [
       "1"
      ]
     },
     "execution_count": 157,
     "metadata": {},
     "output_type": "execute_result"
    }
   ],
   "source": [
    "trs_model.solve()"
   ]
  },
  {
   "cell_type": "code",
   "execution_count": 158,
   "metadata": {
    "collapsed": false
   },
   "outputs": [],
   "source": [
    "ids = []\n",
    "for v in trs_model.variables():\n",
    "    if v.name.startswith(\"y\") & (v.varValue == 1):\n",
    "        ids.append(f_dat.loc[int(v.name[2:]), \"GRID_ID\"])"
   ]
  },
  {
   "cell_type": "code",
   "execution_count": 159,
   "metadata": {
    "collapsed": false
   },
   "outputs": [
    {
     "data": {
      "text/plain": [
       "['BQ-17',\n",
       " 'BL-33',\n",
       " 'BI-42',\n",
       " 'BQ-22',\n",
       " 'BK-47',\n",
       " 'BJ-34',\n",
       " 'BR-28',\n",
       " 'BK-42',\n",
       " 'BI-46',\n",
       " 'BI-27',\n",
       " 'BG-50',\n",
       " 'BN-38',\n",
       " 'BT-11',\n",
       " 'BJ-33',\n",
       " 'BJ-48',\n",
       " 'BP-34',\n",
       " 'BR-31',\n",
       " 'BM-32',\n",
       " 'BO-24',\n",
       " 'BO-22']"
      ]
     },
     "execution_count": 159,
     "metadata": {},
     "output_type": "execute_result"
    }
   ],
   "source": [
    "ids"
   ]
  }
 ],
 "metadata": {
  "anaconda-cloud": {},
  "kernelspec": {
   "display_name": "Python [conda root]",
   "language": "python",
   "name": "conda-root-py"
  },
  "language_info": {
   "codemirror_mode": {
    "name": "ipython",
    "version": 3
   },
   "file_extension": ".py",
   "mimetype": "text/x-python",
   "name": "python",
   "nbconvert_exporter": "python",
   "pygments_lexer": "ipython3",
   "version": "3.5.2"
  }
 },
 "nbformat": 4,
 "nbformat_minor": 1
}
